{
 "cells": [
  {
   "cell_type": "markdown",
   "metadata": {
    "id": "J1w-zrxAUr4l",
    "pycharm": {
     "name": "#%% md\n"
    }
   },
   "source": [
    "# Quick Start Tutorial of the basic functionality of MetaDrive\n",
    "\n",
    "Welcome to try out MetaDrive!\n",
    "\n",
    "MetaDrive v0.2.5 supports two running modes:\n",
    "\n",
    "1. **With 3D rendering functionality**: MetaDrive can easily install and run in personal computer, but may need special treatments for 3D rendering in headless machine and cloud servers.\n",
    "\n",
    "2. **Without 3D rendering functionality**: MetaDrive can easily install and run in any machine. In this Colab notebook, we demonstrate MetaDrive in this mode and the renderer will be the **2D** **Pygame** renderer.\n",
    "\n",
    "In this tutorial, we will navigate you through the installation and some basic functionality of MetaDrive!"
   ]
  },
  {
   "cell_type": "markdown",
   "metadata": {
    "id": "2efvTXdHVptN",
    "pycharm": {
     "name": "#%% md\n"
    }
   },
   "source": [
    "## Installation\n",
    "\n",
    "You can install MetaDrive easily."
   ]
  },
  {
   "cell_type": "code",
   "execution_count": null,
   "metadata": {
    "colab": {
     "base_uri": "https://localhost:8080/",
     "height": 1000
    },
    "id": "65J2iQKpUQ1B",
    "outputId": "60411b22-c699-4db0-bf23-13b4c83c4d4f",
    "pycharm": {
     "name": "#%%\n"
    },
    "scrolled": true
   },
   "outputs": [],
   "source": [
    "#@title Collect the MetaDrive\n",
    "\n",
    "%pip install git+https://github.com/metadriverse/metadrive.git"
   ]
  },
  {
   "cell_type": "code",
   "execution_count": null,
   "metadata": {},
   "outputs": [],
   "source": [
    "# @title Test Installation\n",
    "from metadrive import MetaDriveEnv\n",
    "from metadrive.examples import expert\n",
    "\n",
    "env = MetaDriveEnv()\n",
    "print(\"\\nThe action space: {}\".format(env.action_space))\n",
    "print(\"\\nThe observation space: {}\\n\".format(env.observation_space))\n",
    "try:\n",
    "    env.reset()\n",
    "    for i in range(100):\n",
    "        env.step(env.action_space.sample())\n",
    "    print(\"Successfully run MetaDrive\")\n",
    "except:\n",
    "    print(\"Fail to run MetaDrive!\")\n",
    "finally:\n",
    "    env.close()\n",
    "\n"
   ]
  },
  {
   "cell_type": "markdown",
   "metadata": {
    "id": "QhteKnQ5kqEg",
    "pycharm": {
     "name": "#%% md\n"
    }
   },
   "source": [
    "## Basic Functionality"
   ]
  },
  {
   "cell_type": "code",
   "execution_count": null,
   "metadata": {
    "colab": {
     "base_uri": "https://localhost:8080/",
     "height": 1000
    },
    "id": "898SwWaHkqEg",
    "outputId": "c4ac3dc2-e7c4-40c9-ab40-8f6890476469",
    "pycharm": {
     "name": "#%%\n"
    }
   },
   "outputs": [],
   "source": [
    "# @title A minimalist example of using MetaDrive with the built-in PPO expert policy\n",
    "\n",
    "import os\n",
    "os.environ['SDL_VIDEODRIVER']='dummy'\n",
    "# Note: this step is only for cheating Colab\n",
    "\n",
    "from metadrive import MetaDriveEnv\n",
    "from metadrive.examples import expert\n",
    "\n",
    "# Set the envrionment config\n",
    "config = {\"start_seed\": 1000, \n",
    "          \"environment_num\":1,\n",
    "          \"traffic_density\":0.1\n",
    "          }\n",
    "\n",
    "env = MetaDriveEnv(config)\n",
    "\n",
    "print(\"Starting the environment ...\\n\")\n",
    "\n",
    "ep_reward = 0.0\n",
    "obs = env.reset()\n",
    "frames = []\n",
    "for i in range(1000):\n",
    "    obs, reward, done, info = env.step(expert(env.vehicle))\n",
    "    ep_reward += reward\n",
    "    frame = env.render(mode=\"top_down\", film_size=(800, 800), track_target_vehicle=True, screen_size=(500, 500))\n",
    "    frames.append(frame)\n",
    "    if done:\n",
    "        print(\"Arriving Destination: {}\".format(info[\"arrive_dest\"]))\n",
    "        print(\"\\nEpisode reward: \", ep_reward)\n",
    "        break\n",
    "\n",
    "print(\"\\nThe last returned information: {}\".format(info))\n",
    "\n",
    "env.close()\n",
    "print(\"\\nMetaDrive successfully run!\")\n",
    "\n",
    "# render image\n",
    "print(\"\\nGenerate gif...\")\n",
    "import pygame\n",
    "import numpy as np\n",
    "from PIL import Image\n",
    "\n",
    "imgs = [pygame.surfarray.array3d(frame) for frame in frames]\n",
    "imgs = [Image.fromarray(img) for img in imgs]\n",
    "imgs[0].save(\"demo.gif\", save_all=True, append_images=imgs[1:], duration=50, loop=0)\n",
    "print(\"\\nOpen gif...\")\n",
    "from IPython.display import Image\n",
    "Image(open(\"demo.gif\", 'rb').read())\n"
   ]
  },
  {
   "cell_type": "code",
   "execution_count": null,
   "metadata": {},
   "outputs": [],
   "source": [
    "# @title PPO expert policy can also drive in the safety-critical SafeMetaDrive environment\n",
    "import os\n",
    "os.environ['SDL_VIDEODRIVER']='dummy'\n",
    "# Note: this step is only for cheating Colab\n",
    "\n",
    "from metadrive import SafeMetaDriveEnv\n",
    "from metadrive.examples import expert\n",
    "\n",
    "# Set the envrionment config\n",
    "config = {\"start_seed\": 0, \n",
    "          \"environment_num\":1,\n",
    "          \"accident_prob\":1.0,\n",
    "          \"traffic_density\":0.25\n",
    "          }\n",
    "\n",
    "env = SafeMetaDriveEnv(config)\n",
    "\n",
    "print(\"Starting the environment ...\\n\")\n",
    "\n",
    "ep_reward = 0.0\n",
    "ep_cost = 0.0\n",
    "obs = env.reset()\n",
    "frames = []\n",
    "for i in range(1000):\n",
    "    obs, reward, done, info = env.step(expert(env.vehicle))\n",
    "    ep_reward += reward\n",
    "    ep_cost += info[\"cost\"]\n",
    "    frame = env.render(mode=\"top_down\", film_size=(1500, 1500), track_target_vehicle=True, screen_size=(500, 500))\n",
    "    frames.append(frame)\n",
    "    if done:\n",
    "        print(\"Arriving Destination: {}\".format(info[\"arrive_dest\"]))\n",
    "        print(\"\\nEpisode reward: \", ep_reward)\n",
    "        print(\"\\nEpisode cost: \", ep_cost)\n",
    "        break\n",
    "\n",
    "env.close()\n",
    "print(\"\\nMetaDrive successfully run!\")\n",
    "\n",
    "# render image\n",
    "print(\"\\nGenerate gif...\")\n",
    "import pygame\n",
    "import numpy as np\n",
    "from PIL import Image\n",
    "\n",
    "imgs = [pygame.surfarray.array3d(frame) for frame in frames]\n",
    "imgs = [Image.fromarray(img) for img in imgs]\n",
    "imgs[0].save(\"demo.gif\", save_all=True, append_images=imgs[1:], duration=50, loop=0)\n",
    "print(\"\\nOpen gif...\")\n",
    "from IPython.display import Image\n",
    "Image(open(\"demo.gif\", 'rb').read())"
   ]
  },
  {
   "cell_type": "code",
   "execution_count": null,
   "metadata": {},
   "outputs": [],
   "source": [
    "# @title Multi-agent Environment Visualization\n",
    "import os\n",
    "os.environ['SDL_VIDEODRIVER']='dummy'\n",
    "# Note: this step is only for cheating Colab\n",
    "\n",
    "from metadrive import MultiAgentRoundaboutEnv, MultiAgentBottleneckEnv, MultiAgentIntersectionEnv, MultiAgentParkingLotEnv, MultiAgentTollgateEnv\n",
    "from metadrive.examples import expert\n",
    "\n",
    "envs = [MultiAgentRoundaboutEnv(), \n",
    "        MultiAgentBottleneckEnv(), \n",
    "        MultiAgentIntersectionEnv(), \n",
    "        MultiAgentParkingLotEnv(), \n",
    "        MultiAgentTollgateEnv()]\n",
    "\n",
    "frames = []\n",
    "for env in envs:\n",
    "    print(\"Starting the environment {}\\n\".format(env))\n",
    "    env.reset()\n",
    "    d={}\n",
    "    d[\"__all__\"] = False\n",
    "    for i in range(100):\n",
    "        if d[\"__all__\"]:\n",
    "            frames.append(frame)\n",
    "            continue\n",
    "        action = env.action_space.sample()\n",
    "        for a in action.values(): \n",
    "            a[-1] = 1.0\n",
    "        o,r,d,i = env.step(action)\n",
    "        frame = env.render(mode=\"top_down\", film_size=(500, 500), track_target_vehicle=False, screen_size=(500, 500))\n",
    "        frames.append(frame)\n",
    "    env.close()\n",
    "\n",
    "# render image\n",
    "print(\"\\nGenerate gif...\")\n",
    "import pygame\n",
    "import numpy as np\n",
    "from PIL import Image\n",
    "\n",
    "imgs = [pygame.surfarray.array3d(frame) for frame in frames]\n",
    "imgs = [Image.fromarray(img) for img in imgs]\n",
    "imgs[0].save(\"demo.gif\", save_all=True, append_images=imgs[1:], duration=50, loop=0)\n",
    "print(\"\\nOpen gif...\")\n",
    "from IPython.display import Image\n",
    "Image(open(\"demo.gif\", 'rb').read())"
   ]
  },
  {
   "cell_type": "markdown",
   "metadata": {
    "id": "ClZzNVQUkqEh",
    "pycharm": {
     "name": "#%% md\n"
    }
   },
   "source": [
    "## Map Generation"
   ]
  },
  {
   "cell_type": "code",
   "execution_count": null,
   "metadata": {
    "id": "NUawlJubkqEh",
    "pycharm": {
     "name": "#%%\n"
    }
   },
   "outputs": [],
   "source": [
    "# @title Draw the generated maps in top-down view\n",
    "\n",
    "import random\n",
    "\n",
    "import matplotlib.pyplot as plt\n",
    "from metadrive import MetaDriveEnv\n",
    "from metadrive.utils.draw_top_down_map import draw_top_down_map\n",
    "\n",
    "env = MetaDriveEnv(config=dict(\n",
    "    environment_num=100,\n",
    "    map=7,\n",
    "    start_seed=random.randint(0, 1000)\n",
    "))\n",
    "\n",
    "fig, axs = plt.subplots(4, 4, figsize=(10, 10), dpi=100)\n",
    "for i in range(4):\n",
    "    for j in range(4):\n",
    "        env.reset()\n",
    "        m = draw_top_down_map(env.current_map)\n",
    "        ax = axs[i][j]\n",
    "        ax.imshow(m, cmap=\"bone\")\n",
    "        ax.set_xticks([])\n",
    "        ax.set_yticks([])\n",
    "fig.suptitle(\"Bird's-eye view of generated maps\")\n",
    "plt.show()\n",
    "\n",
    "env.close()\n"
   ]
  },
  {
   "cell_type": "code",
   "execution_count": null,
   "metadata": {
    "id": "HyL36-nekqEh",
    "pycharm": {
     "name": "#%%\n"
    }
   },
   "outputs": [],
   "source": [
    "# @title Draw the generated maps in top-down view with fixed block sequence\n",
    "# @markdown You can also specify the road block sequence then randomize the block parameters.\n",
    "# @markdown Please refer to [documentation](https://metadrive-simulator.readthedocs.io/en/latest/env_config.html#map-config) for the meaning of the map string.\n",
    "\n",
    "import random\n",
    "\n",
    "import matplotlib.pyplot as plt\n",
    "\n",
    "from metadrive import MetaDriveEnv\n",
    "\n",
    "env = MetaDriveEnv(config=dict(\n",
    "    environment_num=100,\n",
    "    map=\"CrTRXOS\",\n",
    "    start_seed=random.randint(0, 1000)\n",
    "))\n",
    "\n",
    "fig, axs = plt.subplots(4, 4, figsize=(10, 10), dpi=100)\n",
    "for i in range(4):\n",
    "    for j in range(4):\n",
    "        env.reset()\n",
    "        m = draw_top_down_map(env.current_map)\n",
    "        ax = axs[i][j]\n",
    "        ax = axs[i][j]\n",
    "        ax.imshow(m, cmap=\"bone\")\n",
    "        ax.set_xticks([])\n",
    "        ax.set_yticks([])\n",
    "fig.suptitle(\"Bird's-eye view of generated maps\")\n",
    "plt.show()\n",
    "\n",
    "env.close()\n"
   ]
  }
 ],
 "metadata": {
  "colab": {
   "collapsed_sections": [],
   "provenance": []
  },
  "kernelspec": {
   "display_name": "Python 3 (ipykernel)",
   "language": "python",
   "name": "python3"
  },
  "language_info": {
   "codemirror_mode": {
    "name": "ipython",
    "version": 3
   },
   "file_extension": ".py",
   "mimetype": "text/x-python",
   "name": "python",
   "nbconvert_exporter": "python",
   "pygments_lexer": "ipython3",
   "version": "3.7.13"
  }
 },
 "nbformat": 4,
 "nbformat_minor": 1
}
